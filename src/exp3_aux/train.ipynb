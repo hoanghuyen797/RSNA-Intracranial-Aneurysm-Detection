{
 "cells": [
  {
   "cell_type": "code",
   "execution_count": 1,
   "id": "c0390cf5",
   "metadata": {},
   "outputs": [
    {
     "name": "stdout",
     "output_type": "stream",
     "text": [
      "Namespace(cfg='configs/mit_b4_fpn_384.yaml', ckpt_dir='checkpoints', frac=1, folds=[0, 1, 2, 3, 4])\n",
      "{'encoder_name': 'mit_b4', 'decoder_name': 'fpn', 'encoder_weights': 'imagenet', 'encoder_feat_dims': 1280, 'workers': 8, 'image_size': 384, 'batch_size': 128, 'init_lr': 0.0001, 'epochs': 15, 'mixup': True, 'ema_decay': 0.995}\n",
      "****************************** Fold 0 ******************************\n",
      "Fold: 0 | Epoch 0 | train loss: 0.01231 | val_auc: 0.74754 | ema_val_auc: 0.78027\n",
      "val auc improved from 0.00000 to 0.78027 saving model to checkpoints/mit_b4_384_fold0.pt\n",
      "Fold: 0 | Epoch 1 | train loss: 0.00883 | val_auc: 0.77907 | ema_val_auc: 0.81934\n",
      "val auc improved from 0.78027 to 0.81934 saving model to checkpoints/mit_b4_384_fold0.pt\n",
      "Fold: 0 | Epoch 2 | train loss: 0.00774 | val_auc: 0.81066 | ema_val_auc: 0.82617\n",
      "val auc improved from 0.81934 to 0.82617 saving model to checkpoints/mit_b4_384_fold0.pt\n",
      "Fold: 0 | Epoch 3 | train loss: 0.00679 | val_auc: 0.81772 | ema_val_auc: 0.83941\n",
      "val auc improved from 0.82617 to 0.83941 saving model to checkpoints/mit_b4_384_fold0.pt\n",
      "Fold: 0 | Epoch 4 | train loss: 0.00608 | val_auc: 0.82340 | ema_val_auc: 0.83669\n",
      "Fold: 0 | Epoch 5 | train loss: 0.00535 | val_auc: 0.83112 | ema_val_auc: 0.83298\n",
      "Fold: 0 | Epoch 6 | train loss: 0.00468 | val_auc: 0.83184 | ema_val_auc: 0.83433\n",
      "Fold: 0 | Epoch 7 | train loss: 0.00427 | val_auc: 0.83292 | ema_val_auc: 0.83332\n",
      "Fold: 0 | Epoch 8 | train loss: 0.00377 | val_auc: 0.82539 | ema_val_auc: 0.82960\n",
      "Fold: 0 | Epoch 9 | train loss: 0.00335 | val_auc: 0.83547 | ema_val_auc: 0.84205\n",
      "val auc improved from 0.83941 to 0.84205 saving model to checkpoints/mit_b4_384_fold0.pt\n",
      "Fold: 0 | Epoch 10 | train loss: 0.00314 | val_auc: 0.83060 | ema_val_auc: 0.83372\n",
      "Fold: 0 | Epoch 11 | train loss: 0.00311 | val_auc: 0.83202 | ema_val_auc: 0.83329\n",
      "Fold: 0 | Epoch 12 | train loss: 0.00290 | val_auc: 0.83116 | ema_val_auc: 0.83154\n",
      "Fold: 0 | Epoch 13 | train loss: 0.00294 | val_auc: 0.83105 | ema_val_auc: 0.83096\n",
      "Fold: 0 | Epoch 14 | train loss: 0.00292 | val_auc: 0.83003 | ema_val_auc: 0.83044\n",
      "****************************** Fold 1 ******************************\n",
      "Fold: 1 | Epoch 0 | train loss: 0.01174 | val_auc: 0.74932 | ema_val_auc: 0.75803\n",
      "val auc improved from 0.00000 to 0.75803 saving model to checkpoints/mit_b4_384_fold1.pt\n",
      "Fold: 1 | Epoch 1 | train loss: 0.00847 | val_auc: 0.80297 | ema_val_auc: 0.82403\n",
      "val auc improved from 0.75803 to 0.82403 saving model to checkpoints/mit_b4_384_fold1.pt\n",
      "Fold: 1 | Epoch 2 | train loss: 0.00737 | val_auc: 0.82672 | ema_val_auc: 0.84000\n",
      "val auc improved from 0.82403 to 0.84000 saving model to checkpoints/mit_b4_384_fold1.pt\n",
      "Fold: 1 | Epoch 3 | train loss: 0.00652 | val_auc: 0.83225 | ema_val_auc: 0.85462\n",
      "val auc improved from 0.84000 to 0.85462 saving model to checkpoints/mit_b4_384_fold1.pt\n",
      "Fold: 1 | Epoch 4 | train loss: 0.00579 | val_auc: 0.83030 | ema_val_auc: 0.85059\n",
      "Fold: 1 | Epoch 5 | train loss: 0.00499 | val_auc: 0.84108 | ema_val_auc: 0.85180\n",
      "Fold: 1 | Epoch 6 | train loss: 0.00450 | val_auc: 0.83906 | ema_val_auc: 0.84402\n",
      "Fold: 1 | Epoch 7 | train loss: 0.00401 | val_auc: 0.84348 | ema_val_auc: 0.84624\n",
      "Fold: 1 | Epoch 8 | train loss: 0.00365 | val_auc: 0.84581 | ema_val_auc: 0.84279\n",
      "Fold: 1 | Epoch 9 | train loss: 0.00325 | val_auc: 0.84852 | ema_val_auc: 0.84433\n",
      "Fold: 1 | Epoch 10 | train loss: 0.00303 | val_auc: 0.83936 | ema_val_auc: 0.84110\n",
      "Fold: 1 | Epoch 11 | train loss: 0.00286 | val_auc: 0.84228 | ema_val_auc: 0.84207\n",
      "Fold: 1 | Epoch 12 | train loss: 0.00286 | val_auc: 0.83669 | ema_val_auc: 0.83658\n",
      "Fold: 1 | Epoch 13 | train loss: 0.00277 | val_auc: 0.83597 | ema_val_auc: 0.83621\n",
      "Fold: 1 | Epoch 14 | train loss: 0.00284 | val_auc: 0.83759 | ema_val_auc: 0.83661\n",
      "****************************** Fold 2 ******************************\n",
      "Fold: 2 | Epoch 0 | train loss: 0.01242 | val_auc: 0.75772 | ema_val_auc: 0.76465\n",
      "val auc improved from 0.00000 to 0.76465 saving model to checkpoints/mit_b4_384_fold2.pt\n",
      "Fold: 2 | Epoch 1 | train loss: 0.00901 | val_auc: 0.79865 | ema_val_auc: 0.81384\n",
      "val auc improved from 0.76465 to 0.81384 saving model to checkpoints/mit_b4_384_fold2.pt\n",
      "Fold: 2 | Epoch 2 | train loss: 0.00790 | val_auc: 0.82699 | ema_val_auc: 0.83051\n",
      "val auc improved from 0.81384 to 0.83051 saving model to checkpoints/mit_b4_384_fold2.pt\n",
      "Fold: 2 | Epoch 3 | train loss: 0.00698 | val_auc: 0.81937 | ema_val_auc: 0.83809\n",
      "val auc improved from 0.83051 to 0.83809 saving model to checkpoints/mit_b4_384_fold2.pt\n",
      "Fold: 2 | Epoch 4 | train loss: 0.00623 | val_auc: 0.81648 | ema_val_auc: 0.82904\n",
      "Fold: 2 | Epoch 5 | train loss: 0.00545 | val_auc: 0.82684 | ema_val_auc: 0.84072\n",
      "val auc improved from 0.83809 to 0.84072 saving model to checkpoints/mit_b4_384_fold2.pt\n",
      "Fold: 2 | Epoch 6 | train loss: 0.00485 | val_auc: 0.82896 | ema_val_auc: 0.84264\n",
      "val auc improved from 0.84072 to 0.84264 saving model to checkpoints/mit_b4_384_fold2.pt\n",
      "Fold: 2 | Epoch 7 | train loss: 0.00438 | val_auc: 0.83672 | ema_val_auc: 0.83825\n",
      "Fold: 2 | Epoch 8 | train loss: 0.00403 | val_auc: 0.83321 | ema_val_auc: 0.83625\n",
      "Fold: 2 | Epoch 9 | train loss: 0.00351 | val_auc: 0.84395 | ema_val_auc: 0.84344\n",
      "val auc improved from 0.84264 to 0.84395 saving model to checkpoints/mit_b4_384_fold2.pt\n",
      "Fold: 2 | Epoch 10 | train loss: 0.00339 | val_auc: 0.83968 | ema_val_auc: 0.83998\n",
      "Fold: 2 | Epoch 11 | train loss: 0.00319 | val_auc: 0.84082 | ema_val_auc: 0.84154\n",
      "Fold: 2 | Epoch 12 | train loss: 0.00302 | val_auc: 0.84026 | ema_val_auc: 0.84013\n",
      "Fold: 2 | Epoch 13 | train loss: 0.00309 | val_auc: 0.84033 | ema_val_auc: 0.84027\n",
      "Fold: 2 | Epoch 14 | train loss: 0.00305 | val_auc: 0.84051 | ema_val_auc: 0.84062\n",
      "****************************** Fold 3 ******************************\n",
      "Fold: 3 | Epoch 0 | train loss: 0.01219 | val_auc: 0.76862 | ema_val_auc: 0.78445\n",
      "val auc improved from 0.00000 to 0.78445 saving model to checkpoints/mit_b4_384_fold3.pt\n",
      "Fold: 3 | Epoch 1 | train loss: 0.00890 | val_auc: 0.80224 | ema_val_auc: 0.82478\n",
      "val auc improved from 0.78445 to 0.82478 saving model to checkpoints/mit_b4_384_fold3.pt\n",
      "Fold: 3 | Epoch 2 | train loss: 0.00778 | val_auc: 0.83679 | ema_val_auc: 0.84410\n",
      "val auc improved from 0.82478 to 0.84410 saving model to checkpoints/mit_b4_384_fold3.pt\n",
      "Fold: 3 | Epoch 3 | train loss: 0.00694 | val_auc: 0.84880 | ema_val_auc: 0.86535\n",
      "val auc improved from 0.84410 to 0.86535 saving model to checkpoints/mit_b4_384_fold3.pt\n",
      "Fold: 3 | Epoch 4 | train loss: 0.00621 | val_auc: 0.85423 | ema_val_auc: 0.86020\n",
      "Fold: 3 | Epoch 5 | train loss: 0.00551 | val_auc: 0.85206 | ema_val_auc: 0.85804\n",
      "Fold: 3 | Epoch 6 | train loss: 0.00494 | val_auc: 0.83953 | ema_val_auc: 0.85578\n",
      "Fold: 3 | Epoch 7 | train loss: 0.00443 | val_auc: 0.85534 | ema_val_auc: 0.86648\n",
      "val auc improved from 0.86535 to 0.86648 saving model to checkpoints/mit_b4_384_fold3.pt\n",
      "Fold: 3 | Epoch 8 | train loss: 0.00397 | val_auc: 0.85617 | ema_val_auc: 0.86102\n",
      "Fold: 3 | Epoch 9 | train loss: 0.00358 | val_auc: 0.85387 | ema_val_auc: 0.85821\n",
      "Fold: 3 | Epoch 10 | train loss: 0.00330 | val_auc: 0.86138 | ema_val_auc: 0.86288\n",
      "Fold: 3 | Epoch 11 | train loss: 0.00312 | val_auc: 0.85748 | ema_val_auc: 0.85934\n",
      "Fold: 3 | Epoch 12 | train loss: 0.00304 | val_auc: 0.86095 | ema_val_auc: 0.86084\n",
      "Fold: 3 | Epoch 13 | train loss: 0.00313 | val_auc: 0.86107 | ema_val_auc: 0.86102\n",
      "Fold: 3 | Epoch 14 | train loss: 0.00311 | val_auc: 0.86076 | ema_val_auc: 0.86082\n",
      "****************************** Fold 4 ******************************\n",
      "Fold: 4 | Epoch 0 | train loss: 0.01239 | val_auc: 0.73869 | ema_val_auc: 0.74850\n",
      "val auc improved from 0.00000 to 0.74850 saving model to checkpoints/mit_b4_384_fold4.pt\n",
      "Fold: 4 | Epoch 1 | train loss: 0.00892 | val_auc: 0.78922 | ema_val_auc: 0.79944\n",
      "val auc improved from 0.74850 to 0.79944 saving model to checkpoints/mit_b4_384_fold4.pt\n",
      "Fold: 4 | Epoch 2 | train loss: 0.00780 | val_auc: 0.80152 | ema_val_auc: 0.82711\n",
      "val auc improved from 0.79944 to 0.82711 saving model to checkpoints/mit_b4_384_fold4.pt\n",
      "Fold: 4 | Epoch 3 | train loss: 0.00692 | val_auc: 0.80249 | ema_val_auc: 0.82931\n",
      "val auc improved from 0.82711 to 0.82931 saving model to checkpoints/mit_b4_384_fold4.pt\n",
      "Fold: 4 | Epoch 4 | train loss: 0.00619 | val_auc: 0.82386 | ema_val_auc: 0.83872\n",
      "val auc improved from 0.82931 to 0.83872 saving model to checkpoints/mit_b4_384_fold4.pt\n",
      "Fold: 4 | Epoch 5 | train loss: 0.00540 | val_auc: 0.82971 | ema_val_auc: 0.84326\n",
      "val auc improved from 0.83872 to 0.84326 saving model to checkpoints/mit_b4_384_fold4.pt\n",
      "Fold: 4 | Epoch 6 | train loss: 0.00482 | val_auc: 0.82838 | ema_val_auc: 0.84265\n",
      "Fold: 4 | Epoch 7 | train loss: 0.00423 | val_auc: 0.83775 | ema_val_auc: 0.84079\n",
      "Fold: 4 | Epoch 8 | train loss: 0.00392 | val_auc: 0.82403 | ema_val_auc: 0.83875\n",
      "Fold: 4 | Epoch 9 | train loss: 0.00343 | val_auc: 0.82982 | ema_val_auc: 0.83481\n",
      "Fold: 4 | Epoch 10 | train loss: 0.00323 | val_auc: 0.83759 | ema_val_auc: 0.83592\n",
      "Fold: 4 | Epoch 11 | train loss: 0.00316 | val_auc: 0.83688 | ema_val_auc: 0.83610\n",
      "Fold: 4 | Epoch 12 | train loss: 0.00293 | val_auc: 0.83623 | ema_val_auc: 0.83649\n",
      "Fold: 4 | Epoch 13 | train loss: 0.00297 | val_auc: 0.83627 | ema_val_auc: 0.83617\n",
      "Fold: 4 | Epoch 14 | train loss: 0.00298 | val_auc: 0.83523 | ema_val_auc: 0.83441\n"
     ]
    }
   ],
   "source": [
    "!python train.py --cfg configs/mit_b4_fpn_384.yaml"
   ]
  },
  {
   "cell_type": "code",
   "execution_count": 2,
   "id": "b0826fdd",
   "metadata": {},
   "outputs": [
    {
     "name": "stdout",
     "output_type": "stream",
     "text": [
      "Namespace(cfg='configs/mit_b4_fpn_384.yaml', ckpt_dir='checkpoints', folds=[0, 1, 2, 3, 4], pred_dir='predictions', crop_ratio=1, hflip=False)\n",
      "{'encoder_name': 'mit_b4', 'decoder_name': 'fpn', 'encoder_weights': 'imagenet', 'encoder_feat_dims': 1280, 'workers': 8, 'image_size': 384, 'batch_size': 128, 'init_lr': 0.0001, 'epochs': 15, 'mixup': True, 'ema_decay': 0.995}\n",
      "****************************** Fold 0 ******************************\n",
      "100%|█████████████████████████████████████████| 870/870 [00:09<00:00, 89.04it/s]\n",
      "Fold 0 | auc_score 0.8421\n",
      "****************************** Fold 1 ******************************\n",
      "100%|█████████████████████████████████████████| 870/870 [00:09<00:00, 95.01it/s]\n",
      "Fold 1 | auc_score 0.8546\n",
      "****************************** Fold 2 ******************************\n",
      "100%|█████████████████████████████████████████| 869/869 [00:09<00:00, 93.43it/s]\n",
      "Fold 2 | auc_score 0.8440\n",
      "****************************** Fold 3 ******************************\n",
      "100%|█████████████████████████████████████████| 870/870 [00:09<00:00, 91.79it/s]\n",
      "Fold 3 | auc_score 0.8682\n",
      "****************************** Fold 4 ******************************\n",
      "100%|█████████████████████████████████████████| 869/869 [00:09<00:00, 90.31it/s]\n",
      "Fold 4 | auc_score 0.8434\n",
      "OOF | auc_score 0.8469\n"
     ]
    }
   ],
   "source": [
    "!python eval.py --cfg configs/mit_b4_fpn_384.yaml"
   ]
  },
  {
   "cell_type": "code",
   "execution_count": 3,
   "id": "0e010444",
   "metadata": {},
   "outputs": [
    {
     "name": "stdout",
     "output_type": "stream",
     "text": [
      "Namespace(cfg='configs/mit_b4_fpn_384.yaml', ckpt_dir='checkpoints', pred_dir='predictions', folds=[0, 1, 2, 3, 4])\n",
      "{'encoder_name': 'mit_b4', 'decoder_name': 'fpn', 'encoder_weights': 'imagenet', 'encoder_feat_dims': 1280, 'workers': 8, 'image_size': 384, 'batch_size': 128, 'init_lr': 0.0001, 'epochs': 15, 'mixup': True, 'ema_decay': 0.995}\n",
      "Lausanne_TOFMRA | Test size: 43800\n",
      "100%|█████████████████████████████████████████| 343/343 [04:39<00:00,  1.23it/s]\n",
      "Royal_Brisbane_TOFMRA | Test size: 9433\n",
      "100%|███████████████████████████████████████████| 74/74 [01:00<00:00,  1.21it/s]\n"
     ]
    }
   ],
   "source": [
    "!python predict_external_dataset.py --cfg configs/mit_b4_fpn_384.yaml       ### predict on external dataset (Lausanne_TOFMRA + Royal_Brisbane_TOFMRA) to create pseudo-labeling"
   ]
  }
 ],
 "metadata": {
  "kernelspec": {
   "display_name": "venv1",
   "language": "python",
   "name": "python3"
  },
  "language_info": {
   "codemirror_mode": {
    "name": "ipython",
    "version": 3
   },
   "file_extension": ".py",
   "mimetype": "text/x-python",
   "name": "python",
   "nbconvert_exporter": "python",
   "pygments_lexer": "ipython3",
   "version": "3.11.13"
  }
 },
 "nbformat": 4,
 "nbformat_minor": 5
}
